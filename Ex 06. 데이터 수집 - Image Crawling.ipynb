{
 "cells": [
  {
   "cell_type": "code",
   "execution_count": 1,
   "metadata": {},
   "outputs": [],
   "source": [
    "# Crawaling\n",
    "# Confirm chrome://version\n",
    "# https://chromedriver.chromium.org/downloads => version에 맞게 exe 실행 파일 로컬 디스크에 이동 (따로 설치는 안해도됨).\n",
    "# python 파일이 있는 곳에 img 폴더 만들기.\n",
    "\n",
    "# 필요 모듈 가져오기.\n",
    "from urllib.request import urlretrieve # Save network objects (documents from URL addresses) as local files\n",
    "from urllib.parse import quote_plus    # korean support\n",
    "from bs4 import BeautifulSoup as bs    # Essential module\n",
    "from selenium import webdriver         # Google crolling\n",
    "import os"
   ]
  },
  {
   "cell_type": "code",
   "execution_count": 2,
   "metadata": {},
   "outputs": [],
   "source": [
    "def image_collection() :\n",
    "    keyword = input( \"Input keyword : \" )\n",
    "    crawl_n = int( input( \"Input count : \") )\n",
    "    URL     = \"https://www.google.com/search?q=\" + str( keyword ) + \"&hl=ko&tbm=isch\"\n",
    "    driver  = webdriver.Chrome('c:/chromedriver.exe')\n",
    "    options = webdriver.ChromeOptions()\n",
    "    options.add_experimental_option( 'excludeSwitches', ['enable-logging'] )\n",
    "    driver.get(URL)\n",
    "\n",
    "    html    = driver.page_source\n",
    "    soup    = bs( html, features=\"html.parser\" )\n",
    "    img     = soup.select('img')\n",
    "    s_list  = []\n",
    "    n       = 1\n",
    "\n",
    "    dir_path = './img/'\n",
    "    os.mkdir(dir_path + \"/\" + keyword + \"/\")\n",
    "    path     = dir_path + '/' + keyword + '/'\n",
    "\n",
    "    print(\"Searching...\")\n",
    "    for i in img:\n",
    "        try:\n",
    "            s_list.append( i.attrs[\"src\"] )\n",
    "        except KeyError:\n",
    "            s_list.append( i.attrs[\"data-src\"] )\n",
    "\n",
    "    print(\"Downloading...\")\n",
    "    for i in s_list:\n",
    "        print(n)\n",
    "        urlretrieve( i, path + keyword + str(n) + \".jpg\" )\n",
    "        n+=1\n",
    "        if n > crawl_n:\n",
    "            break\n",
    "\n",
    "    driver.close()\n",
    "    print(\"Finish\")"
   ]
  },
  {
   "cell_type": "code",
   "execution_count": 3,
   "metadata": {},
   "outputs": [
    {
     "name": "stdout",
     "output_type": "stream",
     "text": [
      "Input keyword : 송하윤\n",
      "Input count : 20\n",
      "Searching...\n",
      "Downloading...\n",
      "1\n",
      "2\n",
      "3\n",
      "4\n",
      "5\n",
      "6\n",
      "7\n",
      "8\n",
      "9\n",
      "10\n",
      "11\n",
      "12\n",
      "13\n",
      "14\n",
      "15\n",
      "16\n",
      "17\n",
      "18\n",
      "19\n",
      "20\n",
      "Finish\n"
     ]
    }
   ],
   "source": [
    "image_collection()"
   ]
  }
 ],
 "metadata": {
  "kernelspec": {
   "display_name": "Python 3",
   "language": "python",
   "name": "python3"
  },
  "language_info": {
   "codemirror_mode": {
    "name": "ipython",
    "version": 3
   },
   "file_extension": ".py",
   "mimetype": "text/x-python",
   "name": "python",
   "nbconvert_exporter": "python",
   "pygments_lexer": "ipython3",
   "version": "3.7.6"
  }
 },
 "nbformat": 4,
 "nbformat_minor": 4
}
