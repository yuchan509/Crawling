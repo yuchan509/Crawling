{
 "cells": [
  {
   "cell_type": "code",
   "execution_count": 1,
   "metadata": {},
   "outputs": [],
   "source": [
    "import bs4\n",
    "import json\n",
    "import requests\n",
    "import pandas as pd\n",
    "import numpy as np\n",
    "import time\n",
    "import os\n",
    "from urllib.request import urlopen\n",
    "from IPython.display import clear_output"
   ]
  },
  {
   "cell_type": "code",
   "execution_count": 2,
   "metadata": {},
   "outputs": [],
   "source": [
    "# 요청 함수\n",
    "def getSource(site) :\n",
    "    # 헤더 정보.\n",
    "    header_info = {\n",
    "        'User-Agent' : 'Mozilla/5.0 (Windows NT 10.0; Win64; x64) AppleWebKit/537.36 (KHTML, like Gecko) Chrome/88.0.4324.146 Safari/537.36'\n",
    "    }\n",
    "    \n",
    "    # 요청.\n",
    "    response = requests.get(site, headers = header_info)\n",
    "    # print(response.text)\n",
    "    \n",
    "    # json 객체 생성.\n",
    "    obj = json.loads(response.text)\n",
    "    return obj"
   ]
  },
  {
   "cell_type": "code",
   "execution_count": 3,
   "metadata": {},
   "outputs": [],
   "source": [
    "# 한 회차의 데이터를 추출.\n",
    "def getData(obj) :\n",
    "    # print(obj['drwNoDate'])\n",
    "    # print(obj['drwtNo1'])\n",
    "    # print(obj['drwtNo2'])\n",
    "    # print(obj['drwtNo3'])\n",
    "    # print(obj['drwtNo4'])\n",
    "    # print(obj['drwtNo5'])\n",
    "    # print(obj['drwtNo6'])\n",
    "    # print(obj['bnusNo'])\n",
    "    data_dict = {\n",
    "        '추첨 날짜'   : [obj['drwNoDate']],\n",
    "        '번호1'       : [obj['drwtNo1']],\n",
    "        '번호2'       : [obj['drwtNo2']],\n",
    "        '번호3'       : [obj['drwtNo3']],\n",
    "        '번호4'       : [obj['drwtNo4']],\n",
    "        '번호5'       : [obj['drwtNo5']],\n",
    "        '번호6'       : [obj['drwtNo6']],\n",
    "        '보너스 번호' : [obj['bnusNo']]\n",
    "    }\n",
    "    \n",
    "    # 데이터 프레임 생성\n",
    "    df = pd.DataFrame(data_dict)\n",
    "    # display(df1)\n",
    "    \n",
    "    if os.path.exists('lotto.csv') == False :\n",
    "        # 파일이 없을 경우\n",
    "        df.to_csv('lotto.csv', encoding='utf-8-sig', index=False)\n",
    "    else :\n",
    "        df.to_csv('lotto.csv', encoding='utf-8-sig', index=False, header=False, mode='a')"
   ]
  },
  {
   "cell_type": "code",
   "execution_count": 4,
   "metadata": {},
   "outputs": [],
   "source": [
    "# 현재 회차 수집 할 것인지 결정.\n",
    "def getNext(obj) :\n",
    "    \n",
    "    if obj['returnValue'] == 'success' :\n",
    "            return True\n",
    "    else :\n",
    "            return False"
   ]
  },
  {
   "cell_type": "code",
   "execution_count": 5,
   "metadata": {},
   "outputs": [
    {
     "name": "stdout",
     "output_type": "stream",
     "text": [
      "수집 완료\n"
     ]
    }
   ],
   "source": [
    "drwNo = 1\n",
    "\n",
    "while True :\n",
    "    time.sleep(1)\n",
    "    clear_output(wait=True)\n",
    "    site = f'https://www.dhlottery.co.kr/common.do?method=getLottoNumber&drwNo={drwNo}'\n",
    "    obj = getSource(site)\n",
    "    chk = getNext(obj)\n",
    "    \n",
    "    if chk == True :\n",
    "        print(f'{drwNo}회차 수집')\n",
    "        getData(obj)\n",
    "        drwNo +=1\n",
    "    else :\n",
    "        print('수집 완료')\n",
    "        break"
   ]
  }
 ],
 "metadata": {
  "kernelspec": {
   "display_name": "Python 3",
   "language": "python",
   "name": "python3"
  },
  "language_info": {
   "codemirror_mode": {
    "name": "ipython",
    "version": 3
   },
   "file_extension": ".py",
   "mimetype": "text/x-python",
   "name": "python",
   "nbconvert_exporter": "python",
   "pygments_lexer": "ipython3",
   "version": "3.7.6"
  }
 },
 "nbformat": 4,
 "nbformat_minor": 4
}
