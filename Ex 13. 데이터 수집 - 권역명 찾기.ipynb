{
 "cells": [
  {
   "cell_type": "code",
   "execution_count": 9,
   "id": "1e065878",
   "metadata": {},
   "outputs": [],
   "source": [
    "import os\n",
    "import time\n",
    "import platform\n",
    "import datetime\n",
    "import pandas as pd\n",
    "from bs4 import BeautifulSoup\n",
    "from selenium import webdriver as wd\n",
    "from IPython.display import clear_output"
   ]
  },
  {
   "cell_type": "code",
   "execution_count": 10,
   "id": "d61bd04d",
   "metadata": {},
   "outputs": [],
   "source": [
    "df = pd.read_csv(\"2018 ~ 2020 사고 데이터/2019_사고.csv\", encoding='cp949')"
   ]
  },
  {
   "cell_type": "code",
   "execution_count": 15,
   "id": "dcdfb6d3",
   "metadata": {},
   "outputs": [
    {
     "data": {
      "text/plain": [
       "0                37.517387,127.1435515\n",
       "1                37.558317,127.1720769\n",
       "2                      37.2261,126.875\n",
       "3        37.5164472555256,126.98778597\n",
       "4                     37.2979,127.0544\n",
       "                     ...              \n",
       "63483            36.4449729,127.405034\n",
       "63484                 37.2462,127.1039\n",
       "63485                 36.2888,127.3174\n",
       "63486                 36.8933,126.7076\n",
       "63487                 36.0126,127.1042\n",
       "Name: crwal, Length: 63488, dtype: object"
      ]
     },
     "execution_count": 15,
     "metadata": {},
     "output_type": "execute_result"
    }
   ],
   "source": [
    "df['crwal'] = df['lat'] + ',' + df['lon']\n",
    "df1 = df['crwal']\n",
    "df1"
   ]
  },
  {
   "cell_type": "code",
   "execution_count": 11,
   "id": "9aa17ffd",
   "metadata": {},
   "outputs": [],
   "source": [
    "chromedriver ='c:/chromedriver.exe'\n",
    "\n",
    "if platform.system() == 'Darwin': \n",
    "    driver = wd.Chrome(chromedriver)\n",
    "    driver.implicitly_wait(2)\n",
    "else :    \n",
    "    driver = wd.Chrome(chromedriver)\n",
    "    driver.implicitly_wait(2)"
   ]
  },
  {
   "cell_type": "code",
   "execution_count": 13,
   "id": "e20feff9",
   "metadata": {
    "scrolled": true
   },
   "outputs": [
    {
     "name": "stdout",
     "output_type": "stream",
     "text": [
      "20/63488번째 수집중\n",
      "수집완료(0:01:27.977238)\n"
     ]
    }
   ],
   "source": [
    "URL = 'https://www.google.co.kr/maps/@37.053745,125.6553969,5z?hl=ko'\n",
    "driver.get(URL)\n",
    "\n",
    "data_dict = {'권역': []}\n",
    "\n",
    "\n",
    "Start = time.time()\n",
    "\n",
    "# df1[:20] : 20개로 테스트. --> 전부 수집시 df1으로 수정.\n",
    "for idx, num in enumerate(df1[:20]) :\n",
    "    driver.find_element_by_xpath('//*[@id=\"searchboxinput\"]').send_keys(f'{num}')\n",
    "    driver.find_element_by_xpath('//*[@id=\"searchbox-searchbutton\"]').click()\n",
    "    time.sleep(4)\n",
    "\n",
    "    html = driver.page_source\n",
    "    soup = BeautifulSoup(html, 'html.parser')\n",
    "\n",
    "    a1 = soup.select_one('#pane > div > div.widget-pane-content.cYB2Ge-oHo7ed > div > div > div:nth-of-type(8)\\\n",
    "                         > div > div.section-info-line > span.section-info-text > span.widget-pane-link')\n",
    "    a2 = a1.text.split()[-1]\n",
    "\n",
    "    data_dict['권역'].append(a2) \n",
    "    \n",
    "    clear_output(wait=True)\n",
    "    print( f'{idx + 1}/{df1.shape[0]}번째 수집중')\n",
    "    \n",
    "    driver.find_element_by_xpath('//*[@id=\"searchboxinput\"]').clear()\n",
    "\n",
    "data = pd.DataFrame(data_dict)\n",
    "\n",
    "data_dir = './test1/'\n",
    "if not os.path.isdir(data_dir) : \n",
    "    os.mkdir(data_dir)\n",
    "    \n",
    "if os.path.exists(data_dir + 'data_권역.csv') == False :\n",
    "    data.to_csv(data_dir + 'data_권역.csv', encoding='utf-8-sig', index=False)\n",
    "else :\n",
    "    data.to_csv(data_dir + 'data_권역.csv', encoding='utf-8-sig', index=False, header=False, mode='a')\n",
    "\n",
    "\n",
    "End = time.time()   \n",
    "print(f'수집완료({datetime.timedelta(seconds = End - Start)})')"
   ]
  },
  {
   "cell_type": "code",
   "execution_count": 14,
   "id": "2d8afdfb",
   "metadata": {},
   "outputs": [
    {
     "data": {
      "text/html": [
       "<div>\n",
       "<style scoped>\n",
       "    .dataframe tbody tr th:only-of-type {\n",
       "        vertical-align: middle;\n",
       "    }\n",
       "\n",
       "    .dataframe tbody tr th {\n",
       "        vertical-align: top;\n",
       "    }\n",
       "\n",
       "    .dataframe thead th {\n",
       "        text-align: right;\n",
       "    }\n",
       "</style>\n",
       "<table border=\"1\" class=\"dataframe\">\n",
       "  <thead>\n",
       "    <tr style=\"text-align: right;\">\n",
       "      <th></th>\n",
       "      <th>권역</th>\n",
       "    </tr>\n",
       "  </thead>\n",
       "  <tbody>\n",
       "    <tr>\n",
       "      <th>0</th>\n",
       "      <td>서울특별시</td>\n",
       "    </tr>\n",
       "    <tr>\n",
       "      <th>1</th>\n",
       "      <td>서울특별시</td>\n",
       "    </tr>\n",
       "    <tr>\n",
       "      <th>2</th>\n",
       "      <td>경기도</td>\n",
       "    </tr>\n",
       "    <tr>\n",
       "      <th>3</th>\n",
       "      <td>서울특별시</td>\n",
       "    </tr>\n",
       "    <tr>\n",
       "      <th>4</th>\n",
       "      <td>서울특별시</td>\n",
       "    </tr>\n",
       "    <tr>\n",
       "      <th>5</th>\n",
       "      <td>서울특별시</td>\n",
       "    </tr>\n",
       "    <tr>\n",
       "      <th>6</th>\n",
       "      <td>서울특별시</td>\n",
       "    </tr>\n",
       "    <tr>\n",
       "      <th>7</th>\n",
       "      <td>서울특별시</td>\n",
       "    </tr>\n",
       "    <tr>\n",
       "      <th>8</th>\n",
       "      <td>서울특별시</td>\n",
       "    </tr>\n",
       "    <tr>\n",
       "      <th>9</th>\n",
       "      <td>서울특별시</td>\n",
       "    </tr>\n",
       "    <tr>\n",
       "      <th>10</th>\n",
       "      <td>서울특별시</td>\n",
       "    </tr>\n",
       "    <tr>\n",
       "      <th>11</th>\n",
       "      <td>서울특별시</td>\n",
       "    </tr>\n",
       "    <tr>\n",
       "      <th>12</th>\n",
       "      <td>서울특별시</td>\n",
       "    </tr>\n",
       "    <tr>\n",
       "      <th>13</th>\n",
       "      <td>서울특별시</td>\n",
       "    </tr>\n",
       "    <tr>\n",
       "      <th>14</th>\n",
       "      <td>서울특별시</td>\n",
       "    </tr>\n",
       "    <tr>\n",
       "      <th>15</th>\n",
       "      <td>서울특별시</td>\n",
       "    </tr>\n",
       "    <tr>\n",
       "      <th>16</th>\n",
       "      <td>서울특별시</td>\n",
       "    </tr>\n",
       "    <tr>\n",
       "      <th>17</th>\n",
       "      <td>서울특별시</td>\n",
       "    </tr>\n",
       "    <tr>\n",
       "      <th>18</th>\n",
       "      <td>서울특별시</td>\n",
       "    </tr>\n",
       "    <tr>\n",
       "      <th>19</th>\n",
       "      <td>서울특별시</td>\n",
       "    </tr>\n",
       "  </tbody>\n",
       "</table>\n",
       "</div>"
      ],
      "text/plain": [
       "       권역\n",
       "0   서울특별시\n",
       "1   서울특별시\n",
       "2     경기도\n",
       "3   서울특별시\n",
       "4   서울특별시\n",
       "5   서울특별시\n",
       "6   서울특별시\n",
       "7   서울특별시\n",
       "8   서울특별시\n",
       "9   서울특별시\n",
       "10  서울특별시\n",
       "11  서울특별시\n",
       "12  서울특별시\n",
       "13  서울특별시\n",
       "14  서울특별시\n",
       "15  서울특별시\n",
       "16  서울특별시\n",
       "17  서울특별시\n",
       "18  서울특별시\n",
       "19  서울특별시"
      ]
     },
     "execution_count": 14,
     "metadata": {},
     "output_type": "execute_result"
    }
   ],
   "source": [
    "df2 = pd.read_csv('test1/data_권역.csv')\n",
    "df2"
   ]
  },
  {
   "cell_type": "code",
   "execution_count": null,
   "id": "b7d89d1b",
   "metadata": {},
   "outputs": [],
   "source": [
    "df3 = pd.concat([df, df2])\n",
    "df3.to_csv('2019_전처리 데이터.csv', encoding='cp949', index=False, header=True)"
   ]
  }
 ],
 "metadata": {
  "kernelspec": {
   "display_name": "Python 3",
   "language": "python",
   "name": "python3"
  },
  "language_info": {
   "codemirror_mode": {
    "name": "ipython",
    "version": 3
   },
   "file_extension": ".py",
   "mimetype": "text/x-python",
   "name": "python",
   "nbconvert_exporter": "python",
   "pygments_lexer": "ipython3",
   "version": "3.8.8"
  }
 },
 "nbformat": 4,
 "nbformat_minor": 5
}
