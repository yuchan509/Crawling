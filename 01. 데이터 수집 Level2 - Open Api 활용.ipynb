{
 "cells": [
  {
   "cell_type": "markdown",
   "metadata": {},
   "source": [
    "### 데이터 수집/획득 - Level 2"
   ]
  },
  {
   "cell_type": "markdown",
   "metadata": {},
   "source": [
    "#### 사용기술\n",
    "- open api 필요 (Get)\n",
    "  - 관련사이트\n",
    "    - dev.naver.com\n",
    "    - dev.kakao.com\n",
    "  - Client_ID (관리)\n",
    "    - pP7lQhkZAx70dyk3sLcJ\n",
    "  - Client Secret (관리)\n",
    "    - twyoc8OdDG\n",
    "  - API 문서\n",
    "    - https://developers.naver.com/docs/search/news/\n",
    "  - 검색 URL (응답 데이터 json)\n",
    "    - https://openapi.naver.com/v1/search/news.json\n",
    "\n",
    "  - 예시\n",
    "\n",
    "```\n",
    "curl \"https://openapi.naver.com/v1/search/news.xml?query=%EC%A3%BC%EC%8B%9D&display=10&start=1&sort=sim\" \\\n",
    "    -H \"X-Naver-Client-Id: {애플리케이션 등록 시 발급받은 client id 값}\" \\\n",
    "    -H \"X-Naver-Client-Secret: {애플리케이션 등록 시 발급받은 client secret 값}\" -v\n",
    "```\n",
    "\n",
    "\n",
    "- request 모듈 필요. => 통신 수행(http)\n",
    "  - get방식을 주로 사용\n",
    "  - 개인별 인증키는 헤더에 숨겨서 전송."
   ]
  },
  {
   "cell_type": "markdown",
   "metadata": {},
   "source": [
    "#### 구현"
   ]
  },
  {
   "cell_type": "code",
   "execution_count": 19,
   "metadata": {},
   "outputs": [],
   "source": [
    "# 1. 필요한 모듈 가져오기.\n",
    "import urllib.request\n",
    "import os\n",
    "import sys"
   ]
  },
  {
   "cell_type": "code",
   "execution_count": 7,
   "metadata": {},
   "outputs": [],
   "source": [
    "# 2. 환경변수, 통신에 필요한 Key를 정의.\n",
    "Client_ID     = '_HV4Mav6gAsfgons6mTA'\n",
    "Client_Secret = 'esqEqzOGLv'"
   ]
  },
  {
   "cell_type": "code",
   "execution_count": 8,
   "metadata": {},
   "outputs": [
    {
     "data": {
      "text/plain": [
       "'https://openapi.naver.com/v1/search/news.json'"
      ]
     },
     "execution_count": 8,
     "metadata": {},
     "output_type": "execute_result"
    }
   ],
   "source": [
    "# 3. URL 정의.\n",
    "naver_news_url= 'https://openapi.naver.com/v1/search/news.json'\n",
    "naver_news_url"
   ]
  },
  {
   "cell_type": "code",
   "execution_count": 10,
   "metadata": {},
   "outputs": [
    {
     "data": {
      "text/plain": [
       "'query=%EB%B8%94%EB%9E%99%ED%95%91%ED%81%AC'"
      ]
     },
     "execution_count": 10,
     "metadata": {},
     "output_type": "execute_result"
    }
   ],
   "source": [
    "# 4. 파라미터 정의.\n",
    "# 한글이 검색어인 경우, utf-8 인코딩 처리가 필요가 필요. \n",
    "# 한글 => %EA%AA..\n",
    "keyword = urllib.parse.quote('블랙핑크')\n",
    "keyword\n",
    "param   = 'query=' + keyword\n",
    "param"
   ]
  },
  {
   "cell_type": "code",
   "execution_count": 11,
   "metadata": {},
   "outputs": [
    {
     "data": {
      "text/plain": [
       "'https://openapi.naver.com/v1/search/news.json?query=%EB%B8%94%EB%9E%99%ED%95%91%ED%81%AC'"
      ]
     },
     "execution_count": 11,
     "metadata": {},
     "output_type": "execute_result"
    }
   ],
   "source": [
    "# 5. 최종 get방식으로 요청하는 url. \n",
    "req_url = f'{naver_news_url}?{param}'\n",
    "req_url"
   ]
  },
  {
   "cell_type": "code",
   "execution_count": 12,
   "metadata": {},
   "outputs": [],
   "source": [
    "# 6. 통신 객체 생성.\n",
    "# from urllib.request import Request\n",
    "request = urllib.request.Request( req_url )"
   ]
  },
  {
   "cell_type": "code",
   "execution_count": 13,
   "metadata": {},
   "outputs": [],
   "source": [
    "# 7. 클라이언트 키, 보안 키 헤더에 등록.\n",
    "'''\n",
    "-H \"X-Naver-Client-Id: {애플리케이션 등록 시 발급받은 client id 값}\"\n",
    "-H \"X-Naver-Client-Secret: {애플리케이션 등록 시 발급받은 client secret 값}\" -v\n",
    "'''\n",
    "request.add_header( 'X-Naver-Client-Id',     Client_ID     )\n",
    "request.add_header( 'X-Naver-Client-Secret', Client_Secret )"
   ]
  },
  {
   "cell_type": "code",
   "execution_count": 14,
   "metadata": {},
   "outputs": [
    {
     "data": {
      "text/plain": [
       "<http.client.HTTPResponse at 0x23239b8ef48>"
      ]
     },
     "execution_count": 14,
     "metadata": {},
     "output_type": "execute_result"
    }
   ],
   "source": [
    "# 8. 통신.\n",
    "response = urllib.request.urlopen( request )\n",
    "response"
   ]
  },
  {
   "cell_type": "code",
   "execution_count": 15,
   "metadata": {},
   "outputs": [
    {
     "data": {
      "text/plain": [
       "200"
      ]
     },
     "execution_count": 15,
     "metadata": {},
     "output_type": "execute_result"
    }
   ],
   "source": [
    "# 9. 응답코드 확인 -> 200 : http로 통신하고나서 오는 응답코드중 정상을 의미.\n",
    "# 401 : 권한오류, 인증오류\n",
    "# 404 : 해당 페이지가 없음.\n",
    "# 405 : 해당 권한이 없음.\n",
    "# 500 : 서버 내부 에러.\n",
    "response.getcode()"
   ]
  },
  {
   "cell_type": "code",
   "execution_count": 16,
   "metadata": {},
   "outputs": [],
   "source": [
    "# 10. 응답 데이터를 json 객체로 로드. => 딕녀서리, 리스트로 조합 구성.\n",
    "import json\n",
    "\n",
    "# 응답 코드가 정상적이지 않을 경우 오류 상황을 반환.\n",
    "if response.getcode() == 200:\n",
    "    res = json.load( response )\n",
    "else:\n",
    "    print('error', response.getcode())"
   ]
  },
  {
   "cell_type": "code",
   "execution_count": 18,
   "metadata": {},
   "outputs": [
    {
     "name": "stdout",
     "output_type": "stream",
     "text": [
      "10\n",
      "로제, 싸이 기록 경신…한류 이끄는 女솔로 잇단 컴백\n",
      "&quot;주얼리만 6870만원&quot;..블랙핑크 리사, 명품이 픽한 아이돌 1위 ('TMI NEWS')[...\n",
      "블랙핑크 아디다스 광고에 네티즌 탄식한 이유\n",
      "'지디♥' 제니, 아찔한 레드 룩…한복 아니고 &quot;여기 제품&quot;\n",
      "블랙핑크 로제, 美 '지미 팰런쇼' 특급 무대… MV 1억뷰 눈앞\n",
      "블랙핑크 로제, 美 '지미 팰런쇼' 출연…On The Ground 미국 첫 무대 펼쳐\n",
      "블랙핑크 지수, 깜찍한 토끼 포즈로 인증샷 “블링크 사랑해요”[M+★SNS]\n",
      "블랙핑크 로제, 발매 당일 28만장 판매…주문량 50만장 돌파 '女솔로 최다'\n",
      "미리 만나는 2021 가을/겨울 컬렉션 #프라다 #Prada\n",
      "블랙핑크 로제 역시 ‘빛이 나는 솔로’ | 신곡 ‘온 더 그라운드’ 유튜브·...\n"
     ]
    }
   ],
   "source": [
    "# 11. 파싱. \n",
    "# 응답된 데이터에서 description 항목을 모두 출력.\n",
    "print(len( res['items'] ))\n",
    "\n",
    "for news in res['items'] :\n",
    "  #print( news['description'] )\n",
    "\n",
    "  # 데이터들을 좀 더 가공해서 데이터베이스에 적재할 필요가 있어 보임. <- 전처리(정규식, 기타..)\n",
    "    print( news['title'].replace('<b>','').replace('</b>','') )"
   ]
  },
  {
   "cell_type": "markdown",
   "metadata": {},
   "source": [
    "#### 데이터 적제\n",
    "- 파일 (반정형)\n",
    "  - csv, xls(x)\n",
    "  - json\n",
    "- 데이터 베이스(스키마가 외부에 존재)\n",
    "  - RDBMS\n",
    "    - 기업형 디비, Ms-sql, My-sql, Oracle(비공유 디스크),..    \n",
    "    - 현재 작업 기준에서는 코랩에서 작동시, **고정 IP 나 도메인을 가진 데이터베이스**를 활용하여 저장해야함.\n",
    "      - aws 사용.\n",
    "  - No-SQL : 비관계형 데이터 베이스 기반 sql.\n",
    "    - 몽고디비 => 로그 저장.\n",
    "    \n",
    "- 절차\n",
    "  - 데이터 구조 : [ {},{},{},... ] 준비\n",
    "  - pandas를 이용하여 DataFrame 구성\n",
    "  - pymysql + sqlalchemy 이용하여 접속\n",
    "  - 데이터를 데이터베이스에 적제\n",
    "  - 연결 종료\n",
    "  \n",
    "- 데이터 베이스 연결에 필요한 모듈 설치\n",
    "    - !pip install pymysql"
   ]
  },
  {
   "cell_type": "code",
   "execution_count": 38,
   "metadata": {},
   "outputs": [],
   "source": [
    "# 1. 필요 모듈 가져오기.\n",
    "import pandas as pd\n",
    "from sqlalchemy import create_engine\n",
    "import pandas.io.sql as pSql\n",
    "import pymysql"
   ]
  },
  {
   "cell_type": "code",
   "execution_count": 27,
   "metadata": {},
   "outputs": [
    {
     "data": {
      "text/html": [
       "<div>\n",
       "<style scoped>\n",
       "    .dataframe tbody tr th:only-of-type {\n",
       "        vertical-align: middle;\n",
       "    }\n",
       "\n",
       "    .dataframe tbody tr th {\n",
       "        vertical-align: top;\n",
       "    }\n",
       "\n",
       "    .dataframe thead th {\n",
       "        text-align: right;\n",
       "    }\n",
       "</style>\n",
       "<table border=\"1\" class=\"dataframe\">\n",
       "  <thead>\n",
       "    <tr style=\"text-align: right;\">\n",
       "      <th></th>\n",
       "      <th>title</th>\n",
       "      <th>originallink</th>\n",
       "      <th>link</th>\n",
       "      <th>description</th>\n",
       "      <th>pubDate</th>\n",
       "    </tr>\n",
       "  </thead>\n",
       "  <tbody>\n",
       "    <tr>\n",
       "      <th>0</th>\n",
       "      <td>로제, 싸이 기록 경신…한류 이끄는 女솔로 잇단 컴백</td>\n",
       "      <td>http://news.tvchosun.com/site/data/html_dir/20...</td>\n",
       "      <td>https://news.naver.com/main/read.nhn?mode=LSD&amp;...</td>\n",
       "      <td>[리포트] &amp;quot;내가 필요한 모든 것은 여기 이 땅에 있어&amp;quot; 미국의 ...</td>\n",
       "      <td>Wed, 17 Mar 2021 21:47:00 +0900</td>\n",
       "    </tr>\n",
       "    <tr>\n",
       "      <th>1</th>\n",
       "      <td>&amp;quot;주얼리만 6870만원&amp;quot;..&lt;b&gt;블랙핑크&lt;/b&gt; 리사, 명품이 픽...</td>\n",
       "      <td>http://www.osen.co.kr/article/G1111540882</td>\n",
       "      <td>https://news.naver.com/main/read.nhn?mode=LSD&amp;...</td>\n",
       "      <td>'TMI NEWS' 1위는 셀린X 앰배서더로 활약 중인 &lt;b&gt;블랙핑크&lt;/b&gt; 리사....</td>\n",
       "      <td>Wed, 17 Mar 2021 21:27:00 +0900</td>\n",
       "    </tr>\n",
       "    <tr>\n",
       "      <th>2</th>\n",
       "      <td>&lt;b&gt;블랙핑크&lt;/b&gt; 아디다스 광고에 네티즌 탄식한 이유</td>\n",
       "      <td>http://star.mt.co.kr/stview.php?no=20210317210...</td>\n",
       "      <td>https://news.naver.com/main/read.nhn?mode=LSD&amp;...</td>\n",
       "      <td>&amp;quot;아, 저 세상 다리&amp;quot; 걸그룹 &lt;b&gt;블랙핑크&lt;/b&gt;(BLACKPI...</td>\n",
       "      <td>Wed, 17 Mar 2021 21:15:00 +0900</td>\n",
       "    </tr>\n",
       "    <tr>\n",
       "      <th>3</th>\n",
       "      <td>'지디♥' 제니, 아찔한 레드 룩…한복 아니고 &amp;quot;여기 제품&amp;quot;</td>\n",
       "      <td>http://news.mt.co.kr/mtview.php?no=20210317095...</td>\n",
       "      <td>https://news.naver.com/main/read.nhn?mode=LSD&amp;...</td>\n",
       "      <td>그룹 &lt;b&gt;블랙핑크&lt;/b&gt; 제니가 매혹적인 블랙 앤 레드 룩을 선보였다. 지난 16...</td>\n",
       "      <td>Wed, 17 Mar 2021 21:01:00 +0900</td>\n",
       "    </tr>\n",
       "    <tr>\n",
       "      <th>4</th>\n",
       "      <td>&lt;b&gt;블랙핑크&lt;/b&gt; 로제, 美 '지미 팰런쇼' 특급 무대… MV 1억뷰 눈앞</td>\n",
       "      <td>https://sports.hankooki.com/lpage/entv/202103/...</td>\n",
       "      <td>https://sports.hankooki.com/lpage/entv/202103/...</td>\n",
       "      <td>&lt;b&gt;블랙핑크&lt;/b&gt; 로제가 세계 최대 팝 시장인 미국에서의 솔로 데뷔 무대를 성공...</td>\n",
       "      <td>Wed, 17 Mar 2021 20:31:00 +0900</td>\n",
       "    </tr>\n",
       "  </tbody>\n",
       "</table>\n",
       "</div>"
      ],
      "text/plain": [
       "                                               title  \\\n",
       "0                      로제, 싸이 기록 경신…한류 이끄는 女솔로 잇단 컴백   \n",
       "1  &quot;주얼리만 6870만원&quot;..<b>블랙핑크</b> 리사, 명품이 픽...   \n",
       "2                    <b>블랙핑크</b> 아디다스 광고에 네티즌 탄식한 이유   \n",
       "3        '지디♥' 제니, 아찔한 레드 룩…한복 아니고 &quot;여기 제품&quot;   \n",
       "4        <b>블랙핑크</b> 로제, 美 '지미 팰런쇼' 특급 무대… MV 1억뷰 눈앞   \n",
       "\n",
       "                                        originallink  \\\n",
       "0  http://news.tvchosun.com/site/data/html_dir/20...   \n",
       "1          http://www.osen.co.kr/article/G1111540882   \n",
       "2  http://star.mt.co.kr/stview.php?no=20210317210...   \n",
       "3  http://news.mt.co.kr/mtview.php?no=20210317095...   \n",
       "4  https://sports.hankooki.com/lpage/entv/202103/...   \n",
       "\n",
       "                                                link  \\\n",
       "0  https://news.naver.com/main/read.nhn?mode=LSD&...   \n",
       "1  https://news.naver.com/main/read.nhn?mode=LSD&...   \n",
       "2  https://news.naver.com/main/read.nhn?mode=LSD&...   \n",
       "3  https://news.naver.com/main/read.nhn?mode=LSD&...   \n",
       "4  https://sports.hankooki.com/lpage/entv/202103/...   \n",
       "\n",
       "                                         description  \\\n",
       "0  [리포트] &quot;내가 필요한 모든 것은 여기 이 땅에 있어&quot; 미국의 ...   \n",
       "1  'TMI NEWS' 1위는 셀린X 앰배서더로 활약 중인 <b>블랙핑크</b> 리사....   \n",
       "2  &quot;아, 저 세상 다리&quot; 걸그룹 <b>블랙핑크</b>(BLACKPI...   \n",
       "3  그룹 <b>블랙핑크</b> 제니가 매혹적인 블랙 앤 레드 룩을 선보였다. 지난 16...   \n",
       "4  <b>블랙핑크</b> 로제가 세계 최대 팝 시장인 미국에서의 솔로 데뷔 무대를 성공...   \n",
       "\n",
       "                           pubDate  \n",
       "0  Wed, 17 Mar 2021 21:47:00 +0900  \n",
       "1  Wed, 17 Mar 2021 21:27:00 +0900  \n",
       "2  Wed, 17 Mar 2021 21:15:00 +0900  \n",
       "3  Wed, 17 Mar 2021 21:01:00 +0900  \n",
       "4  Wed, 17 Mar 2021 20:31:00 +0900  "
      ]
     },
     "execution_count": 27,
     "metadata": {},
     "output_type": "execute_result"
    }
   ],
   "source": [
    "# 2. 수집한 데이터 프레임화.\n",
    "df = pd.DataFrame.from_dict( res['items'] )\n",
    "df.head()"
   ]
  },
  {
   "cell_type": "code",
   "execution_count": 28,
   "metadata": {},
   "outputs": [],
   "source": [
    "# 3. 데이터 베이스 연결 문자열 준비.\n",
    "id        = 'root'\n",
    "pw        = '##비공개##'\n",
    "domain    = '######.rds.amazonaws.com'\n",
    "port      = 3306\n",
    "database  = 'python_db'\n",
    "\n",
    "db_url = f'mysql+pymysql://{id}:{pw}@{domain}:{port}/{database}'\n",
    "engine = create_engine( db_url, encoding='utf8' )\n",
    "\n",
    "# 데이터 베이스 연결.\n",
    "conn   = engine.connect()\n",
    "\n",
    "# 데이터 입력.\n",
    "df.to_sql( name='tbl_news', con=conn, if_exists='append', index=False )\n",
    "\n",
    "# 데이터 베이스 해제.\n",
    "conn.close()"
   ]
  }
 ],
 "metadata": {
  "kernelspec": {
   "display_name": "Python 3",
   "language": "python",
   "name": "python3"
  },
  "language_info": {
   "codemirror_mode": {
    "name": "ipython",
    "version": 3
   },
   "file_extension": ".py",
   "mimetype": "text/x-python",
   "name": "python",
   "nbconvert_exporter": "python",
   "pygments_lexer": "ipython3",
   "version": "3.7.6"
  }
 },
 "nbformat": 4,
 "nbformat_minor": 4
}
