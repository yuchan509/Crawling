{
 "cells": [
  {
   "cell_type": "markdown",
   "metadata": {
    "id": "f6Q3ijEintLK"
   },
   "source": [
    "#### 크롤링(Crawling)\n",
    " - 내가 작성한 프로그램에 의해서, 웹 드라이버(브라우저 밴더별로 만든 웹 드라이버(핸들링이 가능한 브라우저)를 엑세스하여 데이터 수집 행위를 하는 것.\n",
    " - 재료\n",
    "    - 웹 드라이버(로컬 PC에 존재)\n",
    "      - 브라우저를 직접 띠워서 처리하는 방식.\n",
    "        - 아나콘다에서 진행.\n",
    "        - Chrome driver : https://chromedriver.chromium.org/downloads => version에 맞는 driver 이용.\n",
    "        - chrome://version 확인. \n",
    "      - 브라우저를 백엔드(일종의 고스트 브라우저)에서 처리하는 방식.(숨김 기능 => 리눅스 환경)\n",
    "    - 모듈\n",
    "      - selenium\n",
    "      - https://selenium-python.readthedocs.io/\n",
    "      - 크롬 브라우저도 고스트 기능을 사용할수 있어서 리눅스(서버스타일)에서 구동이 가능.\n",
    "    - 코랩에서는 불가."
   ]
  },
  {
   "cell_type": "markdown",
   "metadata": {
    "id": "B3DZu8xwpBGB"
   },
   "source": [
    "- 설치\n",
    "    - conda install selenium\n",
    "    - pip install selenium"
   ]
  },
  {
   "cell_type": "code",
   "execution_count": 1,
   "metadata": {},
   "outputs": [],
   "source": [
    "# 1. 모듈 가져오기.\n",
    "from selenium import webdriver as wd\n",
    "import platform, time"
   ]
  },
  {
   "cell_type": "code",
   "execution_count": 2,
   "metadata": {},
   "outputs": [],
   "source": [
    "# 2. 브라우저 띠우기.\n",
    "if platform.system() == 'Darwin': # Mac.\n",
    "    # 맥 PC는 드라이버 있는 위치에서 아래 명령 터미널에서 수행 후 진행.\n",
    "    # $ xattr -d com.apple.quarantine chromedriver\n",
    "    driver = wd.Chrome('c:/chromedriver.exe')\n",
    "    \n",
    "else: # Window.    \n",
    "    driver = wd.Chrome('c:/chromedriver.exe')"
   ]
  },
  {
   "cell_type": "code",
   "execution_count": 3,
   "metadata": {},
   "outputs": [
    {
     "data": {
      "text/plain": [
       "'http://www.opinet.co.kr/searRgSelect.do'"
      ]
     },
     "execution_count": 3,
     "metadata": {},
     "output_type": "execute_result"
    }
   ],
   "source": [
    "# 3. 대상 사이트 : 싼 주유소 찾기 오피넷.\n",
    "target_site = 'http://www.opinet.co.kr/searRgSelect.do'\n",
    "target_site"
   ]
  },
  {
   "cell_type": "code",
   "execution_count": 4,
   "metadata": {
    "scrolled": true
   },
   "outputs": [],
   "source": [
    "# 4. 접속 => get 방식 진행 => 네트워크 속도, 대상 사이트의 응답속도 등을 고려.\n",
    "# 접속 후에는 충분히 대기. (명시적, 암묵적, time 모듈을 이용하여 그냥 쉬는 방법)\n",
    "# selenium을 이용한 크롤링 기술은 네트워크 속도가 아주 빠르거나, 일정한 수준을 유지하는 서버에서 진행. \n",
    "# 서버 사양도 나름 괜찮아야 함.(단, 고스트를 사용할 때는 관계 없음)\n",
    "# 1회에 원하는 사이트로 접속하지 않아, 2회 연속 접속을 통해서 원하는 사이트로 강제 진입.\n",
    "for _ in range(2):\n",
    "    driver.get( target_site )\n",
    "    # 5초 대기.\n",
    "    time.sleep(5) "
   ]
  },
  {
   "cell_type": "code",
   "execution_count": 5,
   "metadata": {},
   "outputs": [
    {
     "data": {
      "text/plain": [
       "18"
      ]
     },
     "execution_count": 5,
     "metadata": {},
     "output_type": "execute_result"
    }
   ],
   "source": [
    "# 5. 특정하는 css selector 확인.\n",
    "# 시도 : #SIDO_NM0 -> select\n",
    "# 시도의 목록을 획득.\n",
    "# find_elements_by_css_selector() : 특정 태그 기준으로 특정 태그의 모든 하위 태그 자식들을 찾기.\n",
    "option_tag = driver.find_elements_by_css_selector('#SIDO_NM0 > option')\n",
    "len( option_tag )"
   ]
  },
  {
   "cell_type": "code",
   "execution_count": 6,
   "metadata": {},
   "outputs": [
    {
     "name": "stdout",
     "output_type": "stream",
     "text": [
      "서울특별시\n",
      "부산광역시\n",
      "대구광역시\n",
      "인천광역시\n",
      "광주광역시\n",
      "대전광역시\n",
      "울산광역시\n",
      "세종특별자치시\n",
      "경기도\n",
      "강원도\n",
      "충청북도\n",
      "충청남도\n",
      "전라북도\n",
      "전라남도\n",
      "경상북도\n",
      "경상남도\n",
      "제주특별자치도\n"
     ]
    }
   ],
   "source": [
    "for option in option_tag  :\n",
    "    # option들 중에서 value가 존재하는 요소만을 가져옴.\n",
    "    if option.get_attribute('value') :\n",
    "        \n",
    "        # 실제 다음 단계에 필요한 정보 value를 추출.\n",
    "        print(option.get_attribute('value'))"
   ]
  },
  {
   "cell_type": "code",
   "execution_count": 7,
   "metadata": {},
   "outputs": [
    {
     "data": {
      "text/plain": [
       "['서울특별시',\n",
       " '부산광역시',\n",
       " '대구광역시',\n",
       " '인천광역시',\n",
       " '광주광역시',\n",
       " '대전광역시',\n",
       " '울산광역시',\n",
       " '세종특별자치시',\n",
       " '경기도',\n",
       " '강원도',\n",
       " '충청북도',\n",
       " '충청남도',\n",
       " '전라북도',\n",
       " '전라남도',\n",
       " '경상북도',\n",
       " '경상남도',\n",
       " '제주특별자치도']"
      ]
     },
     "execution_count": 7,
     "metadata": {},
     "output_type": "execute_result"
    }
   ],
   "source": [
    "Sidos = [ option.get_attribute('value') for option in driver.find_elements_by_css_selector('#SIDO_NM0 > option')\n",
    "         if option.get_attribute('value') ]\n",
    "Sidos"
   ]
  },
  {
   "cell_type": "code",
   "execution_count": 8,
   "metadata": {},
   "outputs": [
    {
     "name": "stdout",
     "output_type": "stream",
     "text": [
      "서울특별시\n",
      "부산광역시\n"
     ]
    }
   ],
   "source": [
    "Sido_select = driver.find_element_by_id('SIDO_NM0')\n",
    "\n",
    "# 서울과 부산만 선택.\n",
    "for sido in Sidos[:2] :\n",
    "    print( sido )\n",
    "    # select 태그의 value값을 지정함으로써, 시도를 선택을 확정하는 행위.\n",
    "    # 이후 이벤트는 사이트에 미리 설정된 이벤트 처리에 의해 시군구가 반영.\n",
    "    # 특정 요소에 value를 설정하는 함수.\n",
    "    # 이벤트 발생 : # 사이트는 내부적으로 ajax를 이용하여 변경된 시도에 일치되는 시군구 정보를 가져옴.\n",
    "    Sido_select.send_keys( sido ) \n",
    "    \n",
    "    # 5초 대기.\n",
    "    time.sleep(5)"
   ]
  },
  {
   "cell_type": "markdown",
   "metadata": {},
   "source": [
    "#### 자동 순환 처리\n",
    "- 서울\n",
    "    - 강남구\n",
    "        3초 ~ 5초\n",
    "    - 강동구 \n",
    "    - ...\n",
    "    - 중량구\n",
    "- 부산\n",
    "    - 강서구\n",
    "    - ...\n",
    "    - 해운대구"
   ]
  },
  {
   "cell_type": "code",
   "execution_count": 9,
   "metadata": {},
   "outputs": [
    {
     "name": "stdout",
     "output_type": "stream",
     "text": [
      "\n",
      "< 서울특별시 >\n",
      "===============\n",
      "종로구\n",
      "중구\n",
      "중랑구\n",
      "\n",
      "< 부산광역시 >\n",
      "===============\n",
      "영도구\n",
      "중구\n",
      "해운대구\n",
      "\n",
      "< 대구광역시 >\n",
      "===============\n",
      "서구\n",
      "수성구\n",
      "중구\n"
     ]
    }
   ],
   "source": [
    "# 시군구 : #SIGUNGU_NM0 -> select\n",
    "\n",
    "# 우선 3곳만 확인.\n",
    "for sido in Sidos[:3]  : \n",
    "    print('')\n",
    "    print(f'< {sido} >')\n",
    "    print('='*15)\n",
    "    \n",
    "    # 시도 변경.\n",
    "    # 시군구를 선택하면 => 화면이 껌벅(form 전송) => DOM tree를 새로 구성.\n",
    "    # 기존의 객체들은 전부 사라짐 => 매번 구해오기.\n",
    "    Sido_select = driver.find_element_by_id('SIDO_NM0')\n",
    "    Sido_select.send_keys( sido )    \n",
    "    time.sleep(3)\n",
    "    \n",
    "    # 시군구 변경.\n",
    "    Sigungus = [ option.get_attribute('value')\n",
    "        for option in driver.find_elements_by_css_selector('#SIGUNGU_NM0 > option')\n",
    "        if option.get_attribute('value') ]\n",
    "    \n",
    "    # 시군구를 돌면서 작업 하도록 선택.\n",
    "    # 뒤에 2곳만 가져옴.\n",
    "    for sigungu in Sigungus[-3:] :\n",
    "        print( sigungu )\n",
    "        # 시군구 select 태그의, 값을 현재 시군구 설정.\n",
    "        driver.find_element_by_id('SIGUNGU_NM0').send_keys( sigungu )\n",
    "        \n",
    "        # 3초 대기.\n",
    "        time.sleep(3)\n",
    "        \n",
    "        # 조회 : #searRgSelect => button <= 클릭 이벤트.\n",
    "        # # 엑셀 : javascript : fn_excel_download('os_btn') 로 구성.\n",
    "        # 클릭 이벤트 : #glopopd_excel \n",
    "        # 해당 사이트 엑셀 다운로드 버튼 이벤트 클릭.\n",
    "        driver.find_element_by_id('glopopd_excel').click()"
   ]
  },
  {
   "cell_type": "code",
   "execution_count": 10,
   "metadata": {},
   "outputs": [],
   "source": [
    "# 브라우저 닫기. (창닫고, 프로세스 종료.)\n",
    "# 메모리 방지 차원.\n",
    "driver.close()\n",
    "driver.quit()"
   ]
  },
  {
   "cell_type": "code",
   "execution_count": 11,
   "metadata": {},
   "outputs": [],
   "source": [
    "# Python 프로세스 종료. => Shutdown.\n",
    "exit()"
   ]
  }
 ],
 "metadata": {
  "colab": {
   "authorship_tag": "ABX9TyNQUMKhF11bfmH09J5ZTzjR",
   "collapsed_sections": [],
   "name": "3.데이터획득_level4_crawling.ipynb",
   "private_outputs": true,
   "provenance": []
  },
  "kernelspec": {
   "display_name": "Python 3",
   "language": "python",
   "name": "python3"
  },
  "language_info": {
   "codemirror_mode": {
    "name": "ipython",
    "version": 3
   },
   "file_extension": ".py",
   "mimetype": "text/x-python",
   "name": "python",
   "nbconvert_exporter": "python",
   "pygments_lexer": "ipython3",
   "version": "3.7.6"
  }
 },
 "nbformat": 4,
 "nbformat_minor": 1
}
