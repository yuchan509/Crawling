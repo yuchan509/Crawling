{
 "cells": [
  {
   "cell_type": "code",
   "execution_count": 1,
   "metadata": {},
   "outputs": [],
   "source": [
    "import numpy as np\n",
    "import pandas as pd\n",
    "import requests, os, re, time, json"
   ]
  },
  {
   "cell_type": "markdown",
   "metadata": {},
   "source": [
    "#### 데이터 수집"
   ]
  },
  {
   "cell_type": "code",
   "execution_count": 2,
   "metadata": {},
   "outputs": [],
   "source": [
    "# 요청 주소.\n",
    "site = 'https://openapi.naver.com/v1/search/news.json'\n",
    "\n",
    "# 요청 파라미터.\n",
    "params = {\n",
    "    'query' : '손흥민',\n",
    "    'start' : 1,\n",
    "    'display' : 100,\n",
    "    'sort' : 'sim'\n",
    "}\n",
    "\n",
    "# 요청 Header.\n",
    "headers = {\n",
    "    'X-Naver-Client-Id' : '####Mav6gAsfgons####',\n",
    "    'X-Naver-Client-Secret' : '비공개'\n",
    "}"
   ]
  },
  {
   "cell_type": "code",
   "execution_count": 3,
   "metadata": {
    "scrolled": true
   },
   "outputs": [
    {
     "name": "stdout",
     "output_type": "stream",
     "text": [
      "1 수집중\n",
      "101 수집중\n",
      "201 수집중\n",
      "301 수집중\n",
      "401 수집중\n",
      "501 수집중\n",
      "601 수집중\n",
      "701 수집중\n",
      "801 수집중\n",
      "901 수집중\n",
      "수집완료\n"
     ]
    }
   ],
   "source": [
    "while True :\n",
    "    time.sleep(1)\n",
    "    \n",
    "    # 데이터를 담을 딕셔너리 생성.\n",
    "    data_dict = {\n",
    "        'title' : [],\n",
    "        'description' : []\n",
    "    }\n",
    "    \n",
    "    print(f'{params[\"start\"]} 수집중')\n",
    "    \n",
    "    # 요청.\n",
    "    res = requests.get(site, params=params, headers=headers)\n",
    "    # display(res.text)\n",
    "    \n",
    "    # json 객체로 생성.\n",
    "    json_root = json.loads(res.text)\n",
    "    # display(json_root)\n",
    "    \n",
    "    # items를 추출.\n",
    "    items = json_root['items']\n",
    "    # display(items)\n",
    "    # item 수만 만큼 반복.\n",
    "    \n",
    "    for item in items :\n",
    "        # title 추출.\n",
    "        title = item['title']\n",
    "        \n",
    "        # description 추출.\n",
    "        description = item['description']\n",
    "\n",
    "        # print(title)\n",
    "        # print(description)\n",
    "        # print('-'*50)\n",
    "        \n",
    "        # 추출한 데이터를 딕셔너리에 담기.\n",
    "        data_dict['title'].append(title)\n",
    "        data_dict['description'].append(description)\n",
    "        \n",
    "        \n",
    "    #  수집한 데이터를 저장.\n",
    "    df1 = pd.DataFrame(data_dict)\n",
    "    \n",
    "    if os.path.exists('son.csv') == False :\n",
    "        df1.to_csv('son.csv', encoding='utf-8-sig', index=False)\n",
    "    else :\n",
    "        df1.to_csv('son.csv', encoding='utf-8-sig', index=False, header=False, mode='a')\n",
    "        \n",
    "    # Start값 추출.\n",
    "    Start = json_root['start']\n",
    "    \n",
    "    # Start에 100을 누적.\n",
    "    Start += 100\n",
    "    \n",
    "    # 새롭게 구한 Start가 1000보다 작으면 파라미터로 설정.\n",
    "    if Start < 1000 :\n",
    "        params['start'] = Start\n",
    "    else :\n",
    "    # 그렇지 않으면 while문 중단.\n",
    "        break\n",
    "\n",
    "print('수집완료')"
   ]
  }
 ],
 "metadata": {
  "kernelspec": {
   "display_name": "Python 3",
   "language": "python",
   "name": "python3"
  },
  "language_info": {
   "codemirror_mode": {
    "name": "ipython",
    "version": 3
   },
   "file_extension": ".py",
   "mimetype": "text/x-python",
   "name": "python",
   "nbconvert_exporter": "python",
   "pygments_lexer": "ipython3",
   "version": "3.7.6"
  }
 },
 "nbformat": 4,
 "nbformat_minor": 4
}
